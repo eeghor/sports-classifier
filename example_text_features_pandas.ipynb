{
 "cells": [
  {
   "cell_type": "markdown",
   "metadata": {},
   "source": [
    "## Example of extracting text features from data frame columns containing text"
   ]
  },
  {
   "cell_type": "code",
   "execution_count": 52,
   "metadata": {
    "collapsed": true
   },
   "outputs": [],
   "source": [
    "from sklearn.feature_extraction.text import TfidfVectorizer  # Equivalent to CountVectorizer followed by TfidfTransformer"
   ]
  },
  {
   "cell_type": "code",
   "execution_count": 53,
   "metadata": {
    "collapsed": true
   },
   "outputs": [],
   "source": [
    "import pandas as pd\n",
    "import numpy as np\n",
    "import itertools"
   ]
  },
  {
   "cell_type": "code",
   "execution_count": 54,
   "metadata": {
    "collapsed": true
   },
   "outputs": [],
   "source": [
    "d = pd.DataFrame({\"col1\":\"interesting read and stuff, this is quite read indeed, superflow in the the flowin\".split(\",\"), \n",
    "                  \"col2\":\"interesting weeqa is stuff, this is quite read you, superflow in the you flowin\".split(\",\")})"
   ]
  },
  {
   "cell_type": "code",
   "execution_count": 55,
   "metadata": {
    "collapsed": false
   },
   "outputs": [
    {
     "data": {
      "text/html": [
       "<div>\n",
       "<table border=\"1\" class=\"dataframe\">\n",
       "  <thead>\n",
       "    <tr style=\"text-align: right;\">\n",
       "      <th></th>\n",
       "      <th>col1</th>\n",
       "      <th>col2</th>\n",
       "    </tr>\n",
       "  </thead>\n",
       "  <tbody>\n",
       "    <tr>\n",
       "      <th>0</th>\n",
       "      <td>interesting read and stuff</td>\n",
       "      <td>interesting weeqa is stuff</td>\n",
       "    </tr>\n",
       "    <tr>\n",
       "      <th>1</th>\n",
       "      <td>this is quite read indeed</td>\n",
       "      <td>this is quite read you</td>\n",
       "    </tr>\n",
       "    <tr>\n",
       "      <th>2</th>\n",
       "      <td>superflow in the the flowin</td>\n",
       "      <td>superflow in the you flowin</td>\n",
       "    </tr>\n",
       "  </tbody>\n",
       "</table>\n",
       "</div>"
      ],
      "text/plain": [
       "                           col1                          col2\n",
       "0    interesting read and stuff    interesting weeqa is stuff\n",
       "1     this is quite read indeed        this is quite read you\n",
       "2   superflow in the the flowin   superflow in the you flowin"
      ]
     },
     "execution_count": 55,
     "metadata": {},
     "output_type": "execute_result"
    }
   ],
   "source": [
    "d"
   ]
  },
  {
   "cell_type": "code",
   "execution_count": 56,
   "metadata": {
    "collapsed": false
   },
   "outputs": [],
   "source": [
    "vectorizer = TfidfVectorizer(ngram_range=(1, 2), token_pattern=r'\\b\\w+\\b',strip_accents=\"ascii\", stop_words=\"english\", min_df=1)"
   ]
  },
  {
   "cell_type": "code",
   "execution_count": 57,
   "metadata": {
    "collapsed": false
   },
   "outputs": [],
   "source": [
    "X = vectorizer.fit_transform(itertools.chain(d[\"col1\"],d[\"col2\"]))"
   ]
  },
  {
   "cell_type": "code",
   "execution_count": 58,
   "metadata": {
    "collapsed": false
   },
   "outputs": [
    {
     "data": {
      "text/plain": [
       "array([[ 0.        ,  0.41932846,  0.51136725,  0.        ,  0.        ,\n",
       "         0.        ,  0.3540259 ,  0.51136725,  0.41932846,  0.        ,\n",
       "         0.        ,  0.        ,  0.        ],\n",
       "       [ 0.        ,  0.        ,  0.        ,  0.        ,  0.60714432,\n",
       "         0.60714432,  0.51259296,  0.        ,  0.        ,  0.        ,\n",
       "         0.        ,  0.        ,  0.        ],\n",
       "       [ 0.57735027,  0.        ,  0.        ,  0.        ,  0.        ,\n",
       "         0.        ,  0.        ,  0.        ,  0.        ,  0.57735027,\n",
       "         0.57735027,  0.        ,  0.        ],\n",
       "       [ 0.        ,  0.39339985,  0.        ,  0.47974754,  0.        ,\n",
       "         0.        ,  0.        ,  0.        ,  0.39339985,  0.        ,\n",
       "         0.        ,  0.47974754,  0.47974754],\n",
       "       [ 0.        ,  0.        ,  0.        ,  0.        ,  0.60714432,\n",
       "         0.60714432,  0.51259296,  0.        ,  0.        ,  0.        ,\n",
       "         0.        ,  0.        ,  0.        ],\n",
       "       [ 0.57735027,  0.        ,  0.        ,  0.        ,  0.        ,\n",
       "         0.        ,  0.        ,  0.        ,  0.        ,  0.57735027,\n",
       "         0.57735027,  0.        ,  0.        ]])"
      ]
     },
     "execution_count": 58,
     "metadata": {},
     "output_type": "execute_result"
    }
   ],
   "source": [
    "X.toarray()"
   ]
  },
  {
   "cell_type": "code",
   "execution_count": 59,
   "metadata": {
    "collapsed": false
   },
   "outputs": [
    {
     "data": {
      "text/plain": [
       "['flowin',\n",
       " 'interesting',\n",
       " 'interesting read',\n",
       " 'interesting weeqa',\n",
       " 'quite',\n",
       " 'quite read',\n",
       " 'read',\n",
       " 'read stuff',\n",
       " 'stuff',\n",
       " 'superflow',\n",
       " 'superflow flowin',\n",
       " 'weeqa',\n",
       " 'weeqa stuff']"
      ]
     },
     "execution_count": 59,
     "metadata": {},
     "output_type": "execute_result"
    }
   ],
   "source": [
    "vectorizer.get_feature_names() "
   ]
  },
  {
   "cell_type": "code",
   "execution_count": 61,
   "metadata": {
    "collapsed": false
   },
   "outputs": [
    {
     "data": {
      "text/plain": [
       "{'flowin': 0,\n",
       " 'interesting': 1,\n",
       " 'interesting read': 2,\n",
       " 'interesting weeqa': 3,\n",
       " 'quite': 4,\n",
       " 'quite read': 5,\n",
       " 'read': 6,\n",
       " 'read stuff': 7,\n",
       " 'stuff': 8,\n",
       " 'superflow': 9,\n",
       " 'superflow flowin': 10,\n",
       " 'weeqa': 11,\n",
       " 'weeqa stuff': 12}"
      ]
     },
     "execution_count": 61,
     "metadata": {},
     "output_type": "execute_result"
    }
   ],
   "source": [
    "vectorizer.vocabulary_"
   ]
  },
  {
   "cell_type": "code",
   "execution_count": null,
   "metadata": {
    "collapsed": true
   },
   "outputs": [],
   "source": []
  }
 ],
 "metadata": {
  "kernelspec": {
   "display_name": "Python [default]",
   "language": "python",
   "name": "python3"
  },
  "language_info": {
   "codemirror_mode": {
    "name": "ipython",
    "version": 3
   },
   "file_extension": ".py",
   "mimetype": "text/x-python",
   "name": "python",
   "nbconvert_exporter": "python",
   "pygments_lexer": "ipython3",
   "version": "3.5.2"
  }
 },
 "nbformat": 4,
 "nbformat_minor": 1
}
